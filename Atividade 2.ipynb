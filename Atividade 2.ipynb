{
 "cells": [
  {
   "cell_type": "code",
   "execution_count": null,
   "metadata": {
    "vscode": {
     "languageId": "plaintext"
    }
   },
   "outputs": [],
   "source": [
    "# Nova função U(x) = x^4 - x^2 e seu gradiente\n",
    "def U_new(x):\n",
    "    return x**4 - x**2\n",
    "\n",
    "def dU_new_dx(x):\n",
    "    return 4 * x**3 - 2 * x\n",
    "\n",
    "# Gradiente descendente adaptado para a nova função\n",
    "def gradient_descent_U_new(alpha, epsilon=0.01, max_iter=1000, x0=2.0):\n",
    "    x = x0\n",
    "    trajectory = [x]\n",
    "    for _ in range(max_iter):\n",
    "        grad = dU_new_dx(x)\n",
    "        x_new = x - alpha * grad\n",
    "        trajectory.append(x_new)\n",
    "\n",
    "        # Check if x_new is becoming too large, if so, break the loop.\n",
    "        if abs(x_new) > 1e10:  # You can adjust the threshold as needed\n",
    "            print(f\"Divergence detected with alpha = {alpha}. Breaking the loop.\")\n",
    "            break\n",
    "\n",
    "        if abs(x_new - x) < epsilon:\n",
    "            break\n",
    "        x = x_new\n",
    "    return trajectory\n",
    "\n",
    "# Testar diferentes valores de alpha\n",
    "alphas = [0.01, 0.05, 0.1, 0.3, 0.5] # original list of alphas\n",
    "#alphas = [0.01, 0.02, 0.03, 0.04, 0.05] # alternative list of alphas\n",
    "trajectories = {alpha: gradient_descent_U_new(alpha) for alpha in alphas}\n",
    "\n",
    "# Curva da função\n",
    "x_vals = np.linspace(-2, 2, 500)\n",
    "y_vals = U_new(x_vals)\n",
    "\n",
    "# Plotando os resultados\n",
    "plt.figure(figsize=(12, 8))\n",
    "plt.plot(x_vals, y_vals, label='U(x) = x⁴ - x²', color='black')\n",
    "\n",
    "colors = ['red', 'green', 'blue', 'orange', 'purple']\n",
    "for alpha, color in zip(alphas, colors):\n",
    "    traj = np.array(trajectories[alpha])\n",
    "    plt.plot(traj, U_new(traj), marker='o', linestyle='-', color=color, label=f'α = {alpha}')\n",
    "\n",
    "plt.title('Trajetória do gradiente descendente na função U(x) = x⁴ - x²')\n",
    "plt.xlabel('x')\n",
    "plt.ylabel('U(x)')\n",
    "plt.grid(True)\n",
    "plt.legend()\n",
    "plt.show()s"
   ]
  }
 ],
 "metadata": {
  "language_info": {
   "name": "python"
  }
 },
 "nbformat": 4,
 "nbformat_minor": 2
}
