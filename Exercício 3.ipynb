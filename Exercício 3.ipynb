{
 "cells": [
  {
   "cell_type": "code",
   "execution_count": 2,
   "id": "8fd01bc1",
   "metadata": {},
   "outputs": [
    {
     "ename": "ModuleNotFoundError",
     "evalue": "No module named 'numpy'",
     "output_type": "error",
     "traceback": [
      "\u001b[31m---------------------------------------------------------------------------\u001b[39m",
      "\u001b[31mModuleNotFoundError\u001b[39m                       Traceback (most recent call last)",
      "\u001b[36mCell\u001b[39m\u001b[36m \u001b[39m\u001b[32mIn[2]\u001b[39m\u001b[32m, line 3\u001b[39m\n\u001b[32m      1\u001b[39m \u001b[38;5;66;03m#Exercício 3\u001b[39;00m\n\u001b[32m----> \u001b[39m\u001b[32m3\u001b[39m \u001b[38;5;28;01mimport\u001b[39;00m\u001b[38;5;250m \u001b[39m\u001b[34;01mnumpy\u001b[39;00m\u001b[38;5;250m \u001b[39m\u001b[38;5;28;01mas\u001b[39;00m\u001b[38;5;250m \u001b[39m\u001b[34;01mnp\u001b[39;00m\n\u001b[32m      4\u001b[39m \u001b[38;5;28;01mimport\u001b[39;00m\u001b[38;5;250m \u001b[39m\u001b[34;01mmatplotlib\u001b[39;00m\u001b[34;01m.\u001b[39;00m\u001b[34;01mpyplot\u001b[39;00m\u001b[38;5;250m \u001b[39m\u001b[38;5;28;01mas\u001b[39;00m\u001b[38;5;250m \u001b[39m\u001b[34;01mplt\u001b[39;00m\n\u001b[32m      6\u001b[39m \u001b[38;5;66;03m# Nova função de U(x) = x⁴ - x² + x/4\u001b[39;00m\n\u001b[32m      7\u001b[39m \u001b[38;5;66;03m# Definindo a função U(x)\u001b[39;00m\n",
      "\u001b[31mModuleNotFoundError\u001b[39m: No module named 'numpy'"
     ]
    }
   ],
   "source": [
    "#Exercício 3\n",
    "\n",
    "import numpy as np\n",
    "import matplotlib.pyplot as plt\n",
    "\n",
    "# Nova função de U(x) = x⁴ - x² + x/4\n",
    "# Definindo a função U(x)\n",
    "def U(x):\n",
    "    return x**4 - x**2 + x/4\n",
    "\n",
    "# Derivada da função\n",
    "def dU_dx(x):\n",
    "    return 4*x**3 - 2*x + 0.25\n",
    "\n",
    "# Algoritmo de gradiente descendente\n",
    "def gradient_descent(alpha=0.01, epsilon=0.01, max_iter=1000, x0=2.0):\n",
    "    x = x0\n",
    "    trajectory = [x]\n",
    "    for i in range(max_iter):\n",
    "        grad = dU_dx(x)\n",
    "        x_new = x - alpha * grad\n",
    "        trajectory.append(x)\n",
    "        if abs(x_new - x) < epsilon:\n",
    "           print(f\"Converge em interação:{i+1}\")\n",
    "        break\n",
    "        if i == max_iter - 1:\n",
    "            print(\"Máximo de iterações atingido\")\n",
    "        x = x_new\n",
    "    return trajectory\n",
    "\n",
    "# Alphas para testar\n",
    "alphas = [0.01, 0.05, 0.1, 0.3, 0.5]\n",
    "colors = ['red', 'green', 'blue', 'orange', 'purple']\n",
    "\n",
    "# Plot da função\n",
    "x_vals = np.linspace(-2, 2, 200)\n",
    "y_vals = U(x_vals)\n",
    "\n",
    "plt.figure(figsize=(12, 8))\n",
    "plt.plot(x_vals, y_vals, label='U(x) = x⁴ - x² + x/4', color='purple')\n",
    "\n",
    "plt.title('Gradiente Descendente em U(x) = x⁴ - x² + x/4')\n",
    "plt.xlabel('x')\n",
    "plt.ylabel('U(x)')\n",
    "plt.grid(True)\n",
    "plt.legend()\n",
    "plt.show()\n"
   ]
  }
 ],
 "metadata": {
  "kernelspec": {
   "display_name": "Laila",
   "language": "python",
   "name": "python3"
  },
  "language_info": {
   "codemirror_mode": {
    "name": "ipython",
    "version": 3
   },
   "file_extension": ".py",
   "mimetype": "text/x-python",
   "name": "python",
   "nbconvert_exporter": "python",
   "pygments_lexer": "ipython3",
   "version": "3.13.2"
  }
 },
 "nbformat": 4,
 "nbformat_minor": 5
}
