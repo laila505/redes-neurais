{
 "cells": [
  {
   "cell_type": "code",
   "execution_count": 1,
   "id": "c294d2b7",
   "metadata": {},
   "outputs": [
    {
     "ename": "ModuleNotFoundError",
     "evalue": "No module named 'RK4'",
     "output_type": "error",
     "traceback": [
      "\u001b[31m---------------------------------------------------------------------------\u001b[39m",
      "\u001b[31mModuleNotFoundError\u001b[39m                       Traceback (most recent call last)",
      "\u001b[36mCell\u001b[39m\u001b[36m \u001b[39m\u001b[32mIn[1]\u001b[39m\u001b[32m, line 4\u001b[39m\n\u001b[32m      2\u001b[39m \u001b[38;5;28;01mimport\u001b[39;00m\u001b[38;5;250m \u001b[39m\u001b[34;01mtorch\u001b[39;00m\n\u001b[32m      3\u001b[39m \u001b[38;5;28;01mimport\u001b[39;00m\u001b[38;5;250m \u001b[39m\u001b[34;01mmatplotlib\u001b[39;00m\u001b[34;01m.\u001b[39;00m\u001b[34;01mpyplot\u001b[39;00m\u001b[38;5;250m \u001b[39m\u001b[38;5;28;01mas\u001b[39;00m\u001b[38;5;250m \u001b[39m\u001b[34;01mplt\u001b[39;00m\n\u001b[32m----> \u001b[39m\u001b[32m4\u001b[39m \u001b[38;5;28;01mfrom\u001b[39;00m\u001b[38;5;250m \u001b[39m\u001b[34;01mRK4\u001b[39;00m\u001b[38;5;250m \u001b[39m\u001b[38;5;28;01mimport\u001b[39;00m dT_dt \u001b[38;5;66;03m# importe a função do seu script RK4.py\u001b[39;00m\n\u001b[32m      6\u001b[39m \u001b[38;5;66;03m# -----------------------------\u001b[39;00m\n\u001b[32m      7\u001b[39m \u001b[38;5;66;03m# Solução Analítica\u001b[39;00m\n\u001b[32m      8\u001b[39m \u001b[38;5;66;03m# -----------------------------\u001b[39;00m\n\u001b[32m      9\u001b[39m T_amb = \u001b[32m25\u001b[39m\n",
      "\u001b[31mModuleNotFoundError\u001b[39m: No module named 'RK4'"
     ]
    }
   ],
   "source": [
    "import numpy as np\n",
    "import torch\n",
    "import matplotlib.pyplot as plt\n",
    "from RK4 import dT_dt # importe a função do seu script RK4.py\n",
    "\n",
    "# -----------------------------\n",
    "# Solução Analítica\n",
    "# -----------------------------\n",
    "T_amb = 25\n",
    "T0 = 70\n",
    "k = 0.005\n",
    "\n",
    "t = np.linspace(0, 2000, 100)\n",
    "T_analitica = T_amb + (T0 - T_amb) * np.exp(-k * t)\n",
    "\n",
    "# -----------------------------\n",
    "# RK4\n",
    "def dt_dt(T, t, k, T_amb):\n",
    "    return -k * (T - T_amb)\n",
    "\n",
    "dt = 20\n",
    "t_rk4 = np.arange(0, 2000+dt, dt)\n",
    "T_rk4 = np.zeros(len(t_rk4))\n",
    "T_rk4[0] = T0\n",
    "\n",
    "for i in range(1, len(t_rk4)):\n",
    "    ti = t_rk4[i-1]\n",
    "    Ti = T_rk4[i-1]\n",
    "    \n",
    "    k1 = dT_dt(Ti, ti, k, T_amb)\n",
    "    k2 = dT_dt(Ti + 0.5 * dt * k1, ti + 0.5 * dt, k, T_amb)\n",
    "    k3 = dT_dt(Ti + 0.5 * dt * k2, ti + 0.5 * dt, k, T_amb)\n",
    "    k4 = dT_dt(Ti + dt * k3, ti + dt, k, T_amb)\n",
    "    \n",
    "    T_rk4[i] = Ti + (dt/6)*(k1 + 2*k2 + 2*k3 + k4)\n",
    "\n",
    "# -----------------------------\n",
    "# PINN\n",
    "# -----------------------------\n",
    "device = torch.device('cuda' if torch.cuda.is_available() else 'cpu')\n",
    "t_torch = torch.tensor(t.reshape(-1,1), dtype=torch.float32, requires_grad=True).to(device)\n",
    "\n",
    "# Carregar modelo treinado do PINN.py ou treinar novamente aqui se preferir\n",
    "from PINN import PINN\n",
    "model = PINN().to(device)\n",
    "model.load_state_dict(torch.load('pinn_model.pth'))  # supondo que salvou o modelo treinado\n",
    "model.eval()\n",
    "T_pinn = model(t_torch).cpu().detach().numpy()\n",
    "\n",
    "# -----------------------------\n",
    "# Plot\n",
    "# -----------------------------\n",
    "plt.plot(t, T_analitica, label='Analítica')\n",
    "plt.plot(t_rk4, T_rk4, 'o-', label='RK4')\n",
    "plt.plot(t, T_pinn, '--', label='PINN')\n",
    "plt.xlabel('Tempo (s)')\n",
    "plt.ylabel('Temperatura (°C)')\n",
    "plt.title('Comparação: Analítica vs RK4 vs PINN')\n",
    "plt.legend()\n",
    "plt.grid(True)\n",
    "plt.show()\n"
   ]
  }
 ],
 "metadata": {
  "kernelspec": {
   "display_name": "pytorch-env",
   "language": "python",
   "name": "python3"
  },
  "language_info": {
   "codemirror_mode": {
    "name": "ipython",
    "version": 3
   },
   "file_extension": ".py",
   "mimetype": "text/x-python",
   "name": "python",
   "nbconvert_exporter": "python",
   "pygments_lexer": "ipython3",
   "version": "3.13.2"
  }
 },
 "nbformat": 4,
 "nbformat_minor": 5
}
