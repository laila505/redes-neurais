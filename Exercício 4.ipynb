{
 "cells": [
  {
   "cell_type": "code",
   "execution_count": 1,
   "id": "3150a5f6",
   "metadata": {},
   "outputs": [
    {
     "ename": "ModuleNotFoundError",
     "evalue": "No module named 'numpy'",
     "output_type": "error",
     "traceback": [
      "\u001b[31m---------------------------------------------------------------------------\u001b[39m",
      "\u001b[31mModuleNotFoundError\u001b[39m                       Traceback (most recent call last)",
      "\u001b[36mCell\u001b[39m\u001b[36m \u001b[39m\u001b[32mIn[1]\u001b[39m\u001b[32m, line 2\u001b[39m\n\u001b[32m      1\u001b[39m \u001b[38;5;66;03m#Exercício 4\u001b[39;00m\n\u001b[32m----> \u001b[39m\u001b[32m2\u001b[39m \u001b[38;5;28;01mimport\u001b[39;00m\u001b[38;5;250m \u001b[39m\u001b[34;01mnumpy\u001b[39;00m\u001b[38;5;250m \u001b[39m\u001b[38;5;28;01mas\u001b[39;00m\u001b[38;5;250m \u001b[39m\u001b[34;01mnp\u001b[39;00m\n\u001b[32m      3\u001b[39m \u001b[38;5;28;01mimport\u001b[39;00m\u001b[38;5;250m \u001b[39m\u001b[34;01mmatplotlib\u001b[39;00m\u001b[34;01m.\u001b[39;00m\u001b[34;01mpyplot\u001b[39;00m\u001b[38;5;250m \u001b[39m\u001b[38;5;28;01mas\u001b[39;00m\u001b[38;5;250m \u001b[39m\u001b[34;01mplt\u001b[39;00m\n\u001b[32m      4\u001b[39m \u001b[38;5;28;01mfrom\u001b[39;00m\u001b[38;5;250m \u001b[39m\u001b[34;01mmpl_toolkits\u001b[39;00m\u001b[34;01m.\u001b[39;00m\u001b[34;01mmplot3d\u001b[39;00m\u001b[38;5;250m \u001b[39m\u001b[38;5;28;01mimport\u001b[39;00m Axes3D\n",
      "\u001b[31mModuleNotFoundError\u001b[39m: No module named 'numpy'"
     ]
    }
   ],
   "source": [
    "#Exercício 4\n",
    "import numpy as np\n",
    "import matplotlib.pyplot as plt\n",
    "from mpl_toolkits.mplot3d import Axes3D\n",
    "\n",
    "# Nova função de U(x,y) = sin(x)cos(y)+2(xy)^2/1000  \n",
    "# Definindo a função U(x,y)\n",
    "def U(x, y):\n",
    "    return np.sin(x) * np.cos(y) + 2 * (x * y) ** 2 / 1000\n",
    "\n",
    "#Definindo os gradientes de U(x,y)\n",
    "def grad_U(x, y):\n",
    "    dU_dx = np.cos(x) * np.cos(y) + 4 * x * y**2 / 1000\n",
    "    dU_dy = -np.sin(x) * np.sin(y) + 4 * y * x**2 / 1000\n",
    "    return np.array([dU_dx, dU_dy])\n",
    "\n",
    "# Algoritmo do gradiente descendente\n",
    "def gradient_descent(x0, y0, alpha=0.1, n_iter=100, epsilon=1e-6):\n",
    "    traj = [(x0, y0)]\n",
    "    x, y = x0, y0\n",
    "\n",
    "    for i in range(n_iter):\n",
    "        grad = grad_U(x, y)\n",
    "        passo= alpha * grad\n",
    "        x,y= x-passo[0], y-passo[1]\n",
    "        traj.append((x, y))\n",
    "        if np.linalg.norm(grad) < epsilon:\n",
    "            print(f\"Converge em interação:{i+1}\")\n",
    "            break\n",
    "    return np.array(traj)\n",
    "\n",
    "# Criar uma malha para o plano XY\n",
    "x_vals = np.linspace(-5, 5, 200)\n",
    "y_vals = np.linspace(-5, 5, 200)\n",
    "X, Y = np.meshgrid(x_vals, y_vals)\n",
    "Z = U(X, Y)\n",
    "\n",
    "trajectory = gradient_descent(x0=2, y0=-2, alpha=0.1, epsilon=1e-6)\n",
    "trajectory=np.array(trajectory)\n",
    "U_vals = U(trajectory[:, 0], trajectory[:, 1])\n",
    "\n",
    "# letra a) Plotar o gráfico de contorno\n",
    "plt.figure(figsize=(10, 6))\n",
    "plt.imshow(Z, extent=[-5, 5, -5, 5], origin='lower', cmap='viridis', aspect='auto')\n",
    "plt.colorbar(label='U(x, y)')\n",
    "plt.plot(x_vals, y_vals, color='red', marker='o', markersize=3, linewidth=2, label='Trajetória')\n",
    "plt.title('a) Contorno de U(x, y) e a trajetória da partícula')\n",
    "plt.xlabel('x')\n",
    "plt.ylabel('y')\n",
    "plt.legend()\n",
    "plt.grid(True)\n",
    "plt.show()\n",
    "\n",
    "# letra b)Plotar o gráfico do valor de U a cada passo como função das iterações (passos) \n",
    "\n",
    "plt.figure(figsize=(8, 4))\n",
    "plt.plot(U_vals, marker='o')\n",
    "plt.title('b) Valor de U(x, y) por interação (epochs)')\n",
    "plt.xlabel('Interação')\n",
    "plt.ylabel('U(x, y)')\n",
    "plt.grid(True)\n",
    "plt.show()\n"
   ]
  }
 ],
 "metadata": {
  "kernelspec": {
   "display_name": "Laila",
   "language": "python",
   "name": "python3"
  },
  "language_info": {
   "codemirror_mode": {
    "name": "ipython",
    "version": 3
   },
   "file_extension": ".py",
   "mimetype": "text/x-python",
   "name": "python",
   "nbconvert_exporter": "python",
   "pygments_lexer": "ipython3",
   "version": "3.13.2"
  }
 },
 "nbformat": 4,
 "nbformat_minor": 5
}
