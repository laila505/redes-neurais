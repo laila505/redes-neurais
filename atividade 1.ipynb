{
 "cells": [
  {
   "cell_type": "code",
   "execution_count": 3,
   "metadata": {},
   "outputs": [
    {
     "ename": "ModuleNotFoundError",
     "evalue": "No module named 'numpy'",
     "output_type": "error",
     "traceback": [
      "\u001b[31m---------------------------------------------------------------------------\u001b[39m",
      "\u001b[31mModuleNotFoundError\u001b[39m                       Traceback (most recent call last)",
      "\u001b[36mCell\u001b[39m\u001b[36m \u001b[39m\u001b[32mIn[3]\u001b[39m\u001b[32m, line 1\u001b[39m\n\u001b[32m----> \u001b[39m\u001b[32m1\u001b[39m \u001b[38;5;28;01mimport\u001b[39;00m\u001b[38;5;250m \u001b[39m\u001b[34;01mnumpy\u001b[39;00m\u001b[38;5;250m \u001b[39m\u001b[38;5;28;01mas\u001b[39;00m\u001b[38;5;250m \u001b[39m\u001b[34;01mnp\u001b[39;00m\n\u001b[32m      2\u001b[39m \u001b[38;5;28;01mimport\u001b[39;00m\u001b[38;5;250m \u001b[39m\u001b[34;01mmatplotlib\u001b[39;00m\u001b[34;01m.\u001b[39;00m\u001b[34;01mpyplot\u001b[39;00m\u001b[38;5;250m \u001b[39m\u001b[38;5;28;01mas\u001b[39;00m\u001b[38;5;250m \u001b[39m\u001b[34;01mplt\u001b[39;00m\n\u001b[32m      4\u001b[39m \u001b[38;5;66;03m# Função U(x) = x^2 - 1\u001b[39;00m\n",
      "\u001b[31mModuleNotFoundError\u001b[39m: No module named 'numpy'"
     ]
    }
   ],
   "source": [
    "import numpy as np\n",
    "import matplotlib.pyplot as plt\n",
    "\n",
    "# Função U(x) = x^2 - 1\n",
    "def U(x):\n",
    "    return x**2 - 1\n",
    "\n",
    "# Derivada de U(x)\n",
    "def dU_dx(x):\n",
    "    return 2 * x\n",
    "\n",
    "# Algoritmo de gradiente descendente\n",
    "def gradient_descent(alpha=0.1, epsilon=0.01, max_iter=1000, x0=3):\n",
    "    x = x0\n",
    "    trajectory = [x]\n",
    "    for i in range(max_iter):\n",
    "        grad = dU_dx(x)\n",
    "        x_new = x - alpha * grad\n",
    "        trajectory.append(x_new)\n",
    "        if abs(x_new - x) < epsilon:\n",
    "            break\n",
    "        x = x_new\n",
    "    return trajectory\n",
    "\n",
    "# Parâmetros iniciais\n",
    "alpha = 0.1\n",
    "epsilon = 0.02\n",
    "max_iter = 1000\n",
    "x0 = 3\n",
    "\n",
    "# Executar o gradiente descendente\n",
    "trajectory = gradient_descent(alpha, epsilon, max_iter, x0)\n",
    "\n",
    "# Preparar dados para o gráfico\n",
    "x_vals = np.linspace(-6, 6, 400)\n",
    "y_vals = U(x_vals)\n",
    "trajectory = np.array(trajectory)\n",
    "trajectory_y = U(trajectory)\n",
    "\n",
    "# Plotar a função e a trajetória\n",
    "plt.figure(figsize=(10, 6))\n",
    "plt.plot(x_vals, y_vals, label='U(x) = x² - 1', color='blue')\n",
    "plt.plot(trajectory, trajectory_y, marker='o', color='red', label='Trajetória da partícula')\n",
    "plt.title('Gradiente Descendente na função U(x) = x² - 1')\n",
    "plt.xlabel('x')\n",
    "plt.ylabel('U(x)')\n",
    "plt.legend()\n",
    "plt.grid(True)\n",
    "plt.show()"
   ]
  }
 ],
 "metadata": {
  "kernelspec": {
   "display_name": "Laila",
   "language": "python",
   "name": "python3"
  },
  "language_info": {
   "codemirror_mode": {
    "name": "ipython",
    "version": 3
   },
   "file_extension": ".py",
   "mimetype": "text/x-python",
   "name": "python",
   "nbconvert_exporter": "python",
   "pygments_lexer": "ipython3",
   "version": "3.13.2"
  }
 },
 "nbformat": 4,
 "nbformat_minor": 2
}
