{
 "cells": [
  {
   "cell_type": "code",
   "execution_count": 4,
   "metadata": {},
   "outputs": [
    {
     "ename": "ModuleNotFoundError",
     "evalue": "No module named 'numpy'",
     "output_type": "error",
     "traceback": [
      "\u001b[31m---------------------------------------------------------------------------\u001b[39m",
      "\u001b[31mModuleNotFoundError\u001b[39m                       Traceback (most recent call last)",
      "\u001b[36mCell\u001b[39m\u001b[36m \u001b[39m\u001b[32mIn[4]\u001b[39m\u001b[32m, line 1\u001b[39m\n\u001b[32m----> \u001b[39m\u001b[32m1\u001b[39m \u001b[38;5;28;01mimport\u001b[39;00m\u001b[38;5;250m \u001b[39m\u001b[34;01mnumpy\u001b[39;00m\u001b[38;5;250m \u001b[39m\u001b[38;5;28;01mas\u001b[39;00m\u001b[38;5;250m \u001b[39m\u001b[34;01mnp\u001b[39;00m\n\u001b[32m      2\u001b[39m \u001b[38;5;28;01mimport\u001b[39;00m\u001b[38;5;250m \u001b[39m\u001b[34;01mmatplotlib\u001b[39;00m\u001b[34;01m.\u001b[39;00m\u001b[34;01mpyplot\u001b[39;00m\u001b[38;5;250m \u001b[39m\u001b[38;5;28;01mas\u001b[39;00m\u001b[38;5;250m \u001b[39m\u001b[34;01mplt\u001b[39;00m\n\u001b[32m      4\u001b[39m \u001b[38;5;66;03m# Função U(x) = x^4 - x^2 e seu gradiente\u001b[39;00m\n",
      "\u001b[31mModuleNotFoundError\u001b[39m: No module named 'numpy'"
     ]
    }
   ],
   "source": [
    "import numpy as np\n",
    "import matplotlib.pyplot as plt\n",
    "\n",
    "# Função U(x) = x^4 - x^2 e seu gradiente\n",
    "def U_new(x):\n",
    "    return x**4 - x**2\n",
    "\n",
    "def dU_new_dx(x):\n",
    "    return 4 * x**3 - 2 * x\n",
    "\n",
    "# Gradiente descendente adaptado para a nova função\n",
    "x=1.2 #ponto inicial\n",
    "tax_alfa=0.1\n",
    "num_inter= 100\n",
    "tolerancia= 0.01\n",
    "x_valor= [x]\n",
    "y_valor=[U_new(x)]\n",
    "\n",
    "for i in range (num_inter):\n",
    "    gradiente = dU_new_dx(x)\n",
    "    x_novo = x - tax_alfa * gradiente\n",
    "    x_valor.append(x_novo)\n",
    "    y_valor.append(U_new(x_novo))\n",
    "\n",
    "    if abs(x_novo - x) < tolerancia:\n",
    "        break\n",
    "    x= x_novo\n",
    "\n",
    "min_x = x\n",
    "max_x = U_new(min_x)\n",
    "print(f\"\\n o valor mínimo aproximado é: x=(min_x)\")\n",
    "print(f\"\\n o valor mínimo aproximado é: y=(min_y)\")\n",
    "\n",
    "\n",
    "# Curva da função\n",
    "x_vals = np.linspace(-2, 2, 500)\n",
    "y_vals = U_new(x_vals)\n",
    "\n",
    "# Plotando os resultados\n",
    "plt.figure(figsize=(12, 8))\n",
    "plt.plot(x_vals, y_vals, label='U(x) = x⁴ - x²', color='black')\n",
    "\n",
    "colors = ['red', 'green', 'blue', 'orange', 'purple']\n",
    "for alpha, color in zip(alphas, colors):\n",
    "    traj = np.array(trajectories[alpha])\n",
    "    plt.plot(traj, U_new(traj), marker='o', linestyle='-', color=color, label=f'α = {alpha}')\n",
    "\n",
    "plt.title('Trajetória do gradiente descendente na função U(x) = x⁴ - x²')\n",
    "plt.xlabel('x')\n",
    "plt.ylabel('U(x)')\n",
    "plt.grid(True)\n",
    "plt.legend()\n",
    "plt.show()"
   ]
  },
  {
   "cell_type": "code",
   "execution_count": null,
   "metadata": {},
   "outputs": [],
   "source": []
  }
 ],
 "metadata": {
  "kernelspec": {
   "display_name": "Laila",
   "language": "python",
   "name": "python3"
  },
  "language_info": {
   "codemirror_mode": {
    "name": "ipython",
    "version": 3
   },
   "file_extension": ".py",
   "mimetype": "text/x-python",
   "name": "python",
   "nbconvert_exporter": "python",
   "pygments_lexer": "ipython3",
   "version": "3.13.2"
  }
 },
 "nbformat": 4,
 "nbformat_minor": 2
}
